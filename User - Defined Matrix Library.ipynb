{
 "cells": [
  {
   "cell_type": "markdown",
   "metadata": {},
   "source": [
    "#     <center>            **User - Defined Matrix Library**     </center>\n",
    "\n",
    "                                                                     Name :- Mahesh Deshmukh. \n",
    "                                                                     Contact:- mb29deshmukh@gmail.com\n",
    "                                                                     Name of Institute:- The CareerGram Institute, Pune."
   ]
  },
  {
   "cell_type": "markdown",
   "metadata": {},
   "source": [
    "### Objective"
   ]
  },
  {
   "cell_type": "markdown",
   "metadata": {},
   "source": [
    "        Matrices have wide applications in engineering, physics, economics, and statistics, as well as in various branches of mathematics. So, we need to check the type of matrices and calculate the terms of matrices. For this purpose, we can create a library which checks the type of matrices and calculate the terms of matrices."
   ]
  },
  {
   "cell_type": "markdown",
   "metadata": {},
   "source": [
    "### Abstract"
   ]
  },
  {
   "cell_type": "markdown",
   "metadata": {},
   "source": [
    "        The purpose of this library is to check the type of matrices and calculate the terms of matrices. Therefore, we create user-defined functions which check the matrices and compute matrices terms. Finally, we create a library with the help of these functions. This function takes only a 2 x 2 or 3 x 3 matrix as an argument (i.e. input) for checking or calculating purposes.          \n",
    "                        In this library, we can check \n",
    "\n",
    "                                    1. Diagonal Matrix\n",
    "                                    2. Idempotent Matrix\n",
    "                                    3. Identity Matrix\n",
    "                                    4. Nilpotent Matrix\n",
    "                                    5. Orthogonal Matrix\n",
    "                                    6. Periodic Matrix\n",
    "                                    7. Scalar Matrix\n",
    "                                    8. Singular Matrix\n",
    "                                    9. Skew Symmetric Matrix\n",
    "                                    10. Square Matrix\n",
    "                                    11. Symmetric Matrix\n",
    "                                    12. Triangular Matrix\n",
    "    \n",
    "                        and compute\n",
    "                           \n",
    "                                    1. Adjoint of Matrix\n",
    "                                    2. Conjugate of Matrix\n",
    "                                    3. Inverse of Matrix"
   ]
  },
  {
   "cell_type": "code",
   "execution_count": 1,
   "metadata": {},
   "outputs": [],
   "source": [
    "# Importing numpy libraries\n",
    "import numpy as np"
   ]
  },
  {
   "cell_type": "code",
   "execution_count": 2,
   "metadata": {},
   "outputs": [
    {
     "data": {
      "text/plain": [
       "matrix([[ 2, -2, -4],\n",
       "        [-1,  3,  4],\n",
       "        [ 1, -2, -3]])"
      ]
     },
     "execution_count": 2,
     "metadata": {},
     "output_type": "execute_result"
    }
   ],
   "source": [
    "# matrix\n",
    "lis = [[2,-2,-4],[-1,3,4],[1,-2,-3]]\n",
    "arr = np.array(lis)\n",
    "matrix = np.matrix(arr)\n",
    "matrix"
   ]
  },
  {
   "cell_type": "code",
   "execution_count": 3,
   "metadata": {},
   "outputs": [],
   "source": [
    "# Importing the matrix library\n",
    "import matrix as mt"
   ]
  },
  {
   "cell_type": "code",
   "execution_count": 4,
   "metadata": {},
   "outputs": [
    {
     "data": {
      "text/plain": [
       "matrix([[-1,  2,  4],\n",
       "        [ 1, -2, -4],\n",
       "        [-1,  2,  4]])"
      ]
     },
     "execution_count": 4,
     "metadata": {},
     "output_type": "execute_result"
    }
   ],
   "source": [
    "# Computing the adjoint of matrix.\n",
    "mt.adj_matrix(matrix)"
   ]
  },
  {
   "cell_type": "code",
   "execution_count": 5,
   "metadata": {},
   "outputs": [
    {
     "name": "stdout",
     "output_type": "stream",
     "text": [
      "the conjugate matrix is:\n",
      " [[ 2.+0.j -2.+0.j -4.+0.j]\n",
      " [-1.+0.j  3.+0.j  4.+0.j]\n",
      " [ 1.+0.j -2.+0.j -3.+0.j]]\n"
     ]
    }
   ],
   "source": [
    "# Computing the conjugate matrix.\n",
    "mt.conjugate_matrix(matrix)"
   ]
  },
  {
   "cell_type": "code",
   "execution_count": 6,
   "metadata": {},
   "outputs": [
    {
     "name": "stdout",
     "output_type": "stream",
     "text": [
      "This is not a diagonal matrix.\n"
     ]
    }
   ],
   "source": [
    "# Checking diagonal matrix.\n",
    "mt.diagonal_matrix(matrix)"
   ]
  },
  {
   "cell_type": "code",
   "execution_count": 7,
   "metadata": {},
   "outputs": [
    {
     "name": "stdout",
     "output_type": "stream",
     "text": [
      "This matrix is an idempotent matrix.\n"
     ]
    }
   ],
   "source": [
    "# Checking idempotent matrix.\n",
    "mt.idempotent_matrix(matrix)"
   ]
  },
  {
   "cell_type": "code",
   "execution_count": 8,
   "metadata": {},
   "outputs": [
    {
     "name": "stdout",
     "output_type": "stream",
     "text": [
      "This is not an identity matrix.\n"
     ]
    }
   ],
   "source": [
    "# Checking identity matrix.\n",
    "mt.identity_matrix(matrix)"
   ]
  },
  {
   "cell_type": "code",
   "execution_count": 9,
   "metadata": {},
   "outputs": [
    {
     "name": "stdout",
     "output_type": "stream",
     "text": [
      "This matrix is a singular matrix. So, we can't calculate the inverse matrix.\n"
     ]
    }
   ],
   "source": [
    "# Computing the inverse of matrix\n",
    "mt.inverse_matrix(matrix)"
   ]
  },
  {
   "cell_type": "code",
   "execution_count": 10,
   "metadata": {},
   "outputs": [
    {
     "name": "stdout",
     "output_type": "stream",
     "text": [
      "This matrix is not a Nilpotent matrix.\n"
     ]
    }
   ],
   "source": [
    "# Checking nilpotent matrix. \n",
    "matrix1 = matrix\n",
    "mt.nilpotent_matrix(matrix,matrix1)"
   ]
  },
  {
   "cell_type": "code",
   "execution_count": 11,
   "metadata": {},
   "outputs": [
    {
     "name": "stdout",
     "output_type": "stream",
     "text": [
      "This is not an orthogonal matrix.\n"
     ]
    }
   ],
   "source": [
    "# Checking orthogonal matrix.\n",
    "mt.orthogonal_matrix(matrix)"
   ]
  },
  {
   "cell_type": "code",
   "execution_count": 12,
   "metadata": {},
   "outputs": [
    {
     "name": "stdout",
     "output_type": "stream",
     "text": [
      "This matrix is a periodic matrix with value k = 1.\n"
     ]
    }
   ],
   "source": [
    "# Checking periodic matrix.\n",
    "matrix1 = matrix\n",
    "mt.Periodic_matrix(matrix,matrix1)"
   ]
  },
  {
   "cell_type": "code",
   "execution_count": 13,
   "metadata": {},
   "outputs": [
    {
     "name": "stdout",
     "output_type": "stream",
     "text": [
      "This is not a scalar matrix.\n"
     ]
    }
   ],
   "source": [
    "# Checking scalar matrix.\n",
    "mt.scalar_matrix(matrix)"
   ]
  },
  {
   "cell_type": "code",
   "execution_count": 14,
   "metadata": {},
   "outputs": [
    {
     "name": "stdout",
     "output_type": "stream",
     "text": [
      "This is a singular matrix.\n"
     ]
    }
   ],
   "source": [
    "# Checking singular matrix.\n",
    "mt.singular_matrix(matrix)"
   ]
  },
  {
   "cell_type": "code",
   "execution_count": 15,
   "metadata": {},
   "outputs": [
    {
     "name": "stdout",
     "output_type": "stream",
     "text": [
      "This is not a skew symmetric matrix.\n"
     ]
    }
   ],
   "source": [
    "# Checking skew symmetric matrix.\n",
    "mt.skew_symmetric_matrix(matrix)"
   ]
  },
  {
   "cell_type": "code",
   "execution_count": 16,
   "metadata": {},
   "outputs": [
    {
     "name": "stdout",
     "output_type": "stream",
     "text": [
      "This is a square matrix.\n"
     ]
    }
   ],
   "source": [
    "# Checking square matrix.\n",
    "mt.square_matrix(matrix)"
   ]
  },
  {
   "cell_type": "code",
   "execution_count": 17,
   "metadata": {},
   "outputs": [
    {
     "name": "stdout",
     "output_type": "stream",
     "text": [
      "This is not a symmetric matrix.\n"
     ]
    }
   ],
   "source": [
    "# Checking symmetric matrix.\n",
    "mt.symmetric_matrix(matrix)"
   ]
  },
  {
   "cell_type": "code",
   "execution_count": 18,
   "metadata": {},
   "outputs": [
    {
     "name": "stdout",
     "output_type": "stream",
     "text": [
      "This is not a triangular matrix.\n"
     ]
    }
   ],
   "source": [
    "# Checking triangular matrix.\n",
    "mt.triangular_matrix(matrix)"
   ]
  },
  {
   "cell_type": "markdown",
   "metadata": {},
   "source": [
    "### Future Work and Scope"
   ]
  },
  {
   "cell_type": "markdown",
   "metadata": {},
   "source": [
    "    Next version of this library, we would check all types of matrices and compute matrices' terms for more than 3 x 3 matrices. And also, we would try to add more functions which solve matrices operations. "
   ]
  },
  {
   "cell_type": "markdown",
   "metadata": {},
   "source": [
    "### Acknowledgements"
   ]
  },
  {
   "cell_type": "markdown",
   "metadata": {},
   "source": [
    "    First and foremost, I am grateful of my project guide Dhairyashil Jagadale (sir) wholeheartedly for his valuable guidance. I am also thankful of the CareerGram Institute, Pune, where I got the golden opportunity to work on this project. And finally, I thank to my parents and friends for their contiunous suport."
   ]
  },
  {
   "cell_type": "markdown",
   "metadata": {},
   "source": [
    "### <center> *Thank you for your time!!!* </center>"
   ]
  }
 ],
 "metadata": {
  "kernelspec": {
   "display_name": "Python 3",
   "language": "python",
   "name": "python3"
  },
  "language_info": {
   "codemirror_mode": {
    "name": "ipython",
    "version": 3
   },
   "file_extension": ".py",
   "mimetype": "text/x-python",
   "name": "python",
   "nbconvert_exporter": "python",
   "pygments_lexer": "ipython3",
   "version": "3.8.5"
  }
 },
 "nbformat": 4,
 "nbformat_minor": 4
}
